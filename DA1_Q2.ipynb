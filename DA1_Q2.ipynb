{
 "cells": [
  {
   "cell_type": "code",
   "execution_count": 56,
   "id": "77bbd844",
   "metadata": {},
   "outputs": [],
   "source": [
    "import numpy as np\n",
    "import pandas as pd\n",
    "import matplotlib.pyplot as plt\n",
    "import seaborn as sns"
   ]
  },
  {
   "cell_type": "code",
   "execution_count": 57,
   "id": "0a292174",
   "metadata": {},
   "outputs": [],
   "source": [
    "from sklearn.metrics import confusion_matrix,ConfusionMatrixDisplay"
   ]
  },
  {
   "cell_type": "code",
   "execution_count": 58,
   "id": "3229efb1",
   "metadata": {},
   "outputs": [],
   "source": [
    "matrix = np.array([\n",
    "    [250,25,18],\n",
    "    [21,320,24],\n",
    "    [22,12,180],\n",
    "])"
   ]
  },
  {
   "cell_type": "code",
   "execution_count": 59,
   "id": "b4bd63cc",
   "metadata": {},
   "outputs": [
    {
     "data": {
      "text/plain": [
       "array([[250,  25,  18],\n",
       "       [ 21, 320,  24],\n",
       "       [ 22,  12, 180]])"
      ]
     },
     "execution_count": 59,
     "metadata": {},
     "output_type": "execute_result"
    }
   ],
   "source": [
    "matrix"
   ]
  },
  {
   "cell_type": "code",
   "execution_count": 60,
   "id": "61153fbb",
   "metadata": {},
   "outputs": [
    {
     "data": {
      "text/plain": [
       "<sklearn.metrics._plot.confusion_matrix.ConfusionMatrixDisplay at 0x194dc9c8880>"
      ]
     },
     "execution_count": 60,
     "metadata": {},
     "output_type": "execute_result"
    },
    {
     "data": {
      "image/png": "[encoded data removed]",
      "text/plain": [
       "<Figure size 640x480 with 2 Axes>"
      ]
     },
     "metadata": {},
     "output_type": "display_data"
    }
   ],
   "source": [
    "image = ConfusionMatrixDisplay(matrix,display_labels=['Grehound','Mastiff','Samoyed'])\n",
    "image.plot(cmap='ocean')"
   ]
  },
  {
   "cell_type": "markdown",
   "id": "6e03bea7",
   "metadata": {},
   "source": [
    "### Precision = TP/(TP+FP)"
   ]
  },
  {
   "cell_type": "code",
   "execution_count": 61,
   "id": "f78aefa8",
   "metadata": {},
   "outputs": [],
   "source": [
    "TPFP_greyhound = 0\n",
    "TPFP_mastiff = 0\n",
    "TPFP_samoyed = 0\n",
    "for i in range(0,3):\n",
    "    TPFP_greyhound += matrix[i][0]\n",
    "    TPFP_mastiff += matrix[i][1]\n",
    "    TPFP_samoyed += matrix[i][2]"
   ]
  },
  {
   "cell_type": "code",
   "execution_count": 62,
   "id": "502304fd",
   "metadata": {},
   "outputs": [
    {
     "data": {
      "text/plain": [
       "293"
      ]
     },
     "execution_count": 62,
     "metadata": {},
     "output_type": "execute_result"
    }
   ],
   "source": [
    "TPFP_greyhound"
   ]
  },
  {
   "cell_type": "code",
   "execution_count": 63,
   "id": "110adae5",
   "metadata": {},
   "outputs": [
    {
     "data": {
      "text/plain": [
       "357"
      ]
     },
     "execution_count": 63,
     "metadata": {},
     "output_type": "execute_result"
    }
   ],
   "source": [
    "TPFP_mastiff"
   ]
  },
  {
   "cell_type": "code",
   "execution_count": 64,
   "id": "b46a9b74",
   "metadata": {},
   "outputs": [
    {
     "data": {
      "text/plain": [
       "222"
      ]
     },
     "execution_count": 64,
     "metadata": {},
     "output_type": "execute_result"
    }
   ],
   "source": [
    "TPFP_samoyed"
   ]
  },
  {
   "cell_type": "code",
   "execution_count": 65,
   "id": "6b60b5af",
   "metadata": {},
   "outputs": [],
   "source": [
    "TP_greyhound = matrix[0][0]\n",
    "TP_mastiff = matrix[1][1]\n",
    "TP_samoyed = matrix[2][2]"
   ]
  },
  {
   "cell_type": "code",
   "execution_count": 66,
   "id": "48ee9d53",
   "metadata": {},
   "outputs": [
    {
     "name": "stdout",
     "output_type": "stream",
     "text": [
      "precision of greyhound prediction is 0.8532423208191127\n",
      "precision of mastiff prediction is 0.896358543417367\n",
      "precision of samoyed prediction is 0.8108108108108109\n"
     ]
    }
   ],
   "source": [
    "print(f\"precision of greyhound prediction is {TP_greyhound/TPFP_greyhound}\")\n",
    "print(f\"precision of mastiff prediction is {(TP_mastiff/TPFP_mastiff)}\")\n",
    "print(f\"precision of samoyed prediction is {TP_samoyed/TPFP_samoyed}\")"
   ]
  },
  {
   "cell_type": "markdown",
   "id": "e1e9f336",
   "metadata": {},
   "source": [
    "### Recall = TP/(TP+FN)"
   ]
  },
  {
   "cell_type": "code",
   "execution_count": 67,
   "id": "c194859d",
   "metadata": {},
   "outputs": [],
   "source": [
    "TPFN_greyhound = 0\n",
    "TPFN_mastiff = 0\n",
    "TPFN_samoyed = 0\n",
    "for i in range(0,3):\n",
    "    TPFN_greyhound += matrix[0][i]\n",
    "    TPFN_mastiff += matrix[1][i]\n",
    "    TPFN_samoyed += matrix[2][i]"
   ]
  },
  {
   "cell_type": "code",
   "execution_count": 68,
   "id": "4a9706c8",
   "metadata": {},
   "outputs": [
    {
     "name": "stdout",
     "output_type": "stream",
     "text": [
      "recall of greyhound prediction is 0.8532423208191127\n",
      "precision of mastiff prediction is 0.8767123287671232\n",
      "precision of samoyed prediction is 0.8411214953271028\n"
     ]
    }
   ],
   "source": [
    "print(f\"recall of greyhound prediction is {TP_greyhound/TPFN_greyhound}\")\n",
    "print(f\"precision of mastiff prediction is {(TP_mastiff/TPFN_mastiff)}\")\n",
    "print(f\"precision of samoyed prediction is {TP_samoyed/TPFN_samoyed}\")"
   ]
  }
 ],
 "metadata": {
  "kernelspec": {
   "display_name": "Python 3 (ipykernel)",
   "language": "python",
   "name": "python3"
  },
  "language_info": {
   "codemirror_mode": {
    "name": "ipython",
    "version": 3
   },
   "file_extension": ".py",
   "mimetype": "text/x-python",
   "name": "python",
   "nbconvert_exporter": "python",
   "pygments_lexer": "ipython3",
   "version": "3.9.13"
  }
 },
 "nbformat": 4,
 "nbformat_minor": 5
}
